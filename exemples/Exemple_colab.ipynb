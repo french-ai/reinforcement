{
  "nbformat": 4,
  "nbformat_minor": 0,
  "metadata": {
    "colab": {
      "name": "Exemple_colab.ipynb",
      "provenance": [],
      "collapsed_sections": []
    },
    "kernelspec": {
      "display_name": "Python 3",
      "language": "python",
      "name": "python3"
    },
    "language_info": {
      "codemirror_mode": {
        "name": "ipython",
        "version": 3
      },
      "file_extension": ".py",
      "mimetype": "text/x-python",
      "name": "python",
      "nbconvert_exporter": "python",
      "pygments_lexer": "ipython3",
      "version": "3.7.6"
    }
  },
  "cells": [
    {
      "cell_type": "markdown",
      "metadata": {
        "id": "_q2As9YqDMMa",
        "colab_type": "text"
      },
      "source": [
        "# Install torchforce for Colab"
      ]
    },
    {
      "cell_type": "code",
      "metadata": {
        "id": "O-pc67vODVzE",
        "colab_type": "code",
        "colab": {
          "base_uri": "https://localhost:8080/",
          "height": 164
        },
        "outputId": "5c4a580f-e502-4570-8002-f4a2ede801f7"
      },
      "source": [
        "!git clone https://github.com/french-ai/reinforcement\n",
        "%cd reinforcement"
      ],
      "execution_count": 1,
      "outputs": [
        {
          "output_type": "stream",
          "text": [
            "Cloning into 'reinforcement'...\n",
            "remote: Enumerating objects: 445, done.\u001b[K\n",
            "remote: Counting objects: 100% (445/445), done.\u001b[K\n",
            "remote: Compressing objects: 100% (279/279), done.\u001b[K\n",
            "remote: Total 1532 (delta 269), reused 299 (delta 159), pack-reused 1087\u001b[K\n",
            "Receiving objects: 100% (1532/1532), 534.61 KiB | 1.55 MiB/s, done.\n",
            "Resolving deltas: 100% (963/963), done.\n",
            "/content/reinforcement\n"
          ],
          "name": "stdout"
        }
      ]
    },
    {
      "cell_type": "code",
      "metadata": {
        "id": "sCMnjYNqDdSu",
        "colab_type": "code",
        "colab": {
          "base_uri": "https://localhost:8080/",
          "height": 54
        },
        "outputId": "73d83693-e251-4582-aba3-eafd1c53ae0c"
      },
      "source": [
        "!git checkout develop"
      ],
      "execution_count": 2,
      "outputs": [
        {
          "output_type": "stream",
          "text": [
            "Branch 'develop' set up to track remote branch 'develop' from 'origin'.\n",
            "Switched to a new branch 'develop'\n"
          ],
          "name": "stdout"
        }
      ]
    },
    {
      "cell_type": "code",
      "metadata": {
        "id": "pU-dMHQ8ETW9",
        "colab_type": "code",
        "colab": {
          "base_uri": "https://localhost:8080/",
          "height": 1000
        },
        "outputId": "4c4663f2-fbd0-4bcf-cbd3-45660d4e145e"
      },
      "source": [
        "!pip install .[notebook]"
      ],
      "execution_count": 3,
      "outputs": [
        {
          "output_type": "stream",
          "text": [
            "Processing /content/reinforcement\n",
            "Requirement already satisfied: torch in /usr/local/lib/python3.6/dist-packages (from torchforce==0.0.0) (1.6.0+cu101)\n",
            "Requirement already satisfied: torchvision in /usr/local/lib/python3.6/dist-packages (from torchforce==0.0.0) (0.7.0+cu101)\n",
            "Requirement already satisfied: gym in /usr/local/lib/python3.6/dist-packages (from torchforce==0.0.0) (0.17.2)\n",
            "Requirement already satisfied: tensorboard in /usr/local/lib/python3.6/dist-packages (from torchforce==0.0.0) (2.3.0)\n",
            "Requirement already satisfied: matplotlib in /usr/local/lib/python3.6/dist-packages (from torchforce==0.0.0) (3.2.2)\n",
            "Requirement already satisfied: IPython in /usr/local/lib/python3.6/dist-packages (from torchforce==0.0.0) (5.5.0)\n",
            "Requirement already satisfied: ipykernel in /usr/local/lib/python3.6/dist-packages (from torchforce==0.0.0) (4.10.1)\n",
            "Requirement already satisfied: future in /usr/local/lib/python3.6/dist-packages (from torch->torchforce==0.0.0) (0.16.0)\n",
            "Requirement already satisfied: numpy in /usr/local/lib/python3.6/dist-packages (from torch->torchforce==0.0.0) (1.18.5)\n",
            "Requirement already satisfied: pillow>=4.1.1 in /usr/local/lib/python3.6/dist-packages (from torchvision->torchforce==0.0.0) (7.0.0)\n",
            "Requirement already satisfied: pyglet<=1.5.0,>=1.4.0 in /usr/local/lib/python3.6/dist-packages (from gym->torchforce==0.0.0) (1.5.0)\n",
            "Requirement already satisfied: cloudpickle<1.4.0,>=1.2.0 in /usr/local/lib/python3.6/dist-packages (from gym->torchforce==0.0.0) (1.3.0)\n",
            "Requirement already satisfied: scipy in /usr/local/lib/python3.6/dist-packages (from gym->torchforce==0.0.0) (1.4.1)\n",
            "Requirement already satisfied: google-auth-oauthlib<0.5,>=0.4.1 in /usr/local/lib/python3.6/dist-packages (from tensorboard->torchforce==0.0.0) (0.4.1)\n",
            "Requirement already satisfied: requests<3,>=2.21.0 in /usr/local/lib/python3.6/dist-packages (from tensorboard->torchforce==0.0.0) (2.23.0)\n",
            "Requirement already satisfied: google-auth<2,>=1.6.3 in /usr/local/lib/python3.6/dist-packages (from tensorboard->torchforce==0.0.0) (1.17.2)\n",
            "Requirement already satisfied: grpcio>=1.24.3 in /usr/local/lib/python3.6/dist-packages (from tensorboard->torchforce==0.0.0) (1.31.0)\n",
            "Requirement already satisfied: protobuf>=3.6.0 in /usr/local/lib/python3.6/dist-packages (from tensorboard->torchforce==0.0.0) (3.12.4)\n",
            "Requirement already satisfied: tensorboard-plugin-wit>=1.6.0 in /usr/local/lib/python3.6/dist-packages (from tensorboard->torchforce==0.0.0) (1.7.0)\n",
            "Requirement already satisfied: setuptools>=41.0.0 in /usr/local/lib/python3.6/dist-packages (from tensorboard->torchforce==0.0.0) (49.6.0)\n",
            "Requirement already satisfied: absl-py>=0.4 in /usr/local/lib/python3.6/dist-packages (from tensorboard->torchforce==0.0.0) (0.8.1)\n",
            "Requirement already satisfied: six>=1.10.0 in /usr/local/lib/python3.6/dist-packages (from tensorboard->torchforce==0.0.0) (1.15.0)\n",
            "Requirement already satisfied: wheel>=0.26; python_version >= \"3\" in /usr/local/lib/python3.6/dist-packages (from tensorboard->torchforce==0.0.0) (0.35.1)\n",
            "Requirement already satisfied: markdown>=2.6.8 in /usr/local/lib/python3.6/dist-packages (from tensorboard->torchforce==0.0.0) (3.2.2)\n",
            "Requirement already satisfied: werkzeug>=0.11.15 in /usr/local/lib/python3.6/dist-packages (from tensorboard->torchforce==0.0.0) (1.0.1)\n",
            "Requirement already satisfied: cycler>=0.10 in /usr/local/lib/python3.6/dist-packages (from matplotlib->torchforce==0.0.0) (0.10.0)\n",
            "Requirement already satisfied: python-dateutil>=2.1 in /usr/local/lib/python3.6/dist-packages (from matplotlib->torchforce==0.0.0) (2.8.1)\n",
            "Requirement already satisfied: pyparsing!=2.0.4,!=2.1.2,!=2.1.6,>=2.0.1 in /usr/local/lib/python3.6/dist-packages (from matplotlib->torchforce==0.0.0) (2.4.7)\n",
            "Requirement already satisfied: kiwisolver>=1.0.1 in /usr/local/lib/python3.6/dist-packages (from matplotlib->torchforce==0.0.0) (1.2.0)\n",
            "Requirement already satisfied: decorator in /usr/local/lib/python3.6/dist-packages (from IPython->torchforce==0.0.0) (4.4.2)\n",
            "Requirement already satisfied: pickleshare in /usr/local/lib/python3.6/dist-packages (from IPython->torchforce==0.0.0) (0.7.5)\n",
            "Requirement already satisfied: simplegeneric>0.8 in /usr/local/lib/python3.6/dist-packages (from IPython->torchforce==0.0.0) (0.8.1)\n",
            "Requirement already satisfied: traitlets>=4.2 in /usr/local/lib/python3.6/dist-packages (from IPython->torchforce==0.0.0) (4.3.3)\n",
            "Requirement already satisfied: prompt-toolkit<2.0.0,>=1.0.4 in /usr/local/lib/python3.6/dist-packages (from IPython->torchforce==0.0.0) (1.0.18)\n",
            "Requirement already satisfied: pexpect; sys_platform != \"win32\" in /usr/local/lib/python3.6/dist-packages (from IPython->torchforce==0.0.0) (4.8.0)\n",
            "Requirement already satisfied: pygments in /usr/local/lib/python3.6/dist-packages (from IPython->torchforce==0.0.0) (2.1.3)\n",
            "Requirement already satisfied: jupyter-client in /usr/local/lib/python3.6/dist-packages (from ipykernel->torchforce==0.0.0) (5.3.5)\n",
            "Requirement already satisfied: tornado>=4.0 in /usr/local/lib/python3.6/dist-packages (from ipykernel->torchforce==0.0.0) (5.1.1)\n",
            "Requirement already satisfied: requests-oauthlib>=0.7.0 in /usr/local/lib/python3.6/dist-packages (from google-auth-oauthlib<0.5,>=0.4.1->tensorboard->torchforce==0.0.0) (1.3.0)\n",
            "Requirement already satisfied: chardet<4,>=3.0.2 in /usr/local/lib/python3.6/dist-packages (from requests<3,>=2.21.0->tensorboard->torchforce==0.0.0) (3.0.4)\n",
            "Requirement already satisfied: idna<3,>=2.5 in /usr/local/lib/python3.6/dist-packages (from requests<3,>=2.21.0->tensorboard->torchforce==0.0.0) (2.10)\n",
            "Requirement already satisfied: certifi>=2017.4.17 in /usr/local/lib/python3.6/dist-packages (from requests<3,>=2.21.0->tensorboard->torchforce==0.0.0) (2020.6.20)\n",
            "Requirement already satisfied: urllib3!=1.25.0,!=1.25.1,<1.26,>=1.21.1 in /usr/local/lib/python3.6/dist-packages (from requests<3,>=2.21.0->tensorboard->torchforce==0.0.0) (1.24.3)\n",
            "Requirement already satisfied: rsa<5,>=3.1.4; python_version >= \"3\" in /usr/local/lib/python3.6/dist-packages (from google-auth<2,>=1.6.3->tensorboard->torchforce==0.0.0) (4.6)\n",
            "Requirement already satisfied: cachetools<5.0,>=2.0.0 in /usr/local/lib/python3.6/dist-packages (from google-auth<2,>=1.6.3->tensorboard->torchforce==0.0.0) (4.1.1)\n",
            "Requirement already satisfied: pyasn1-modules>=0.2.1 in /usr/local/lib/python3.6/dist-packages (from google-auth<2,>=1.6.3->tensorboard->torchforce==0.0.0) (0.2.8)\n",
            "Requirement already satisfied: importlib-metadata; python_version < \"3.8\" in /usr/local/lib/python3.6/dist-packages (from markdown>=2.6.8->tensorboard->torchforce==0.0.0) (1.7.0)\n",
            "Requirement already satisfied: ipython-genutils in /usr/local/lib/python3.6/dist-packages (from traitlets>=4.2->IPython->torchforce==0.0.0) (0.2.0)\n",
            "Requirement already satisfied: wcwidth in /usr/local/lib/python3.6/dist-packages (from prompt-toolkit<2.0.0,>=1.0.4->IPython->torchforce==0.0.0) (0.2.5)\n",
            "Requirement already satisfied: ptyprocess>=0.5 in /usr/local/lib/python3.6/dist-packages (from pexpect; sys_platform != \"win32\"->IPython->torchforce==0.0.0) (0.6.0)\n",
            "Requirement already satisfied: pyzmq>=13 in /usr/local/lib/python3.6/dist-packages (from jupyter-client->ipykernel->torchforce==0.0.0) (19.0.2)\n",
            "Requirement already satisfied: jupyter-core>=4.6.0 in /usr/local/lib/python3.6/dist-packages (from jupyter-client->ipykernel->torchforce==0.0.0) (4.6.3)\n",
            "Requirement already satisfied: oauthlib>=3.0.0 in /usr/local/lib/python3.6/dist-packages (from requests-oauthlib>=0.7.0->google-auth-oauthlib<0.5,>=0.4.1->tensorboard->torchforce==0.0.0) (3.1.0)\n",
            "Requirement already satisfied: pyasn1>=0.1.3 in /usr/local/lib/python3.6/dist-packages (from rsa<5,>=3.1.4; python_version >= \"3\"->google-auth<2,>=1.6.3->tensorboard->torchforce==0.0.0) (0.4.8)\n",
            "Requirement already satisfied: zipp>=0.5 in /usr/local/lib/python3.6/dist-packages (from importlib-metadata; python_version < \"3.8\"->markdown>=2.6.8->tensorboard->torchforce==0.0.0) (3.1.0)\n",
            "Building wheels for collected packages: torchforce\n",
            "  Building wheel for torchforce (setup.py) ... \u001b[?25l\u001b[?25hdone\n",
            "  Created wheel for torchforce: filename=torchforce-0.0.0-cp36-none-any.whl size=44984 sha256=432b267cdbe13aab83c968198435f1173b5dce8dc8e10d5dd965843b9f49accc\n",
            "  Stored in directory: /tmp/pip-ephem-wheel-cache-hes2ibe7/wheels/e9/87/3d/ca0655202a0cb715f2d4a7a1e9728a1d6c60944fa503d9053b\n",
            "Successfully built torchforce\n",
            "Installing collected packages: torchforce\n",
            "Successfully installed torchforce-0.0.0\n"
          ],
          "name": "stdout"
        }
      ]
    },
    {
      "cell_type": "code",
      "metadata": {
        "id": "hbvz39JMEv0K",
        "colab_type": "code",
        "colab": {}
      },
      "source": [
        "!apt-get install -y xvfb python-opengl > /dev/null 2>&1\n",
        "!pip -q install pyopengl\n",
        "!pip -q install pyvirtualdisplay"
      ],
      "execution_count": 4,
      "outputs": []
    },
    {
      "cell_type": "markdown",
      "metadata": {
        "id": "zaMls7TREpvP",
        "colab_type": "text"
      },
      "source": [
        "Start display for colab"
      ]
    },
    {
      "cell_type": "code",
      "metadata": {
        "id": "C56oQsm1EoxM",
        "colab_type": "code",
        "colab": {}
      },
      "source": [
        "# Start virtual display\n",
        "from pyvirtualdisplay import Display\n",
        "display = Display(visible=0, size=(512, 512))\n",
        "display.start()\n",
        "import os\n",
        "os.environ[\"DISPLAY\"] = \":\" + str(display.display)"
      ],
      "execution_count": 5,
      "outputs": []
    },
    {
      "cell_type": "markdown",
      "metadata": {
        "colab_type": "text",
        "id": "ZTuJfCB_CYzh"
      },
      "source": [
        "## OpenAI Gym Available Environment\n",
        "\n",
        "Gym comes with a diverse suite of environments that range from easy to difficult and involve many different kinds of data. View the [full list of environments](https://gym.openai.com/envs) to get the birds-eye view.\n",
        "\n",
        "- [Classic control](https://gym.openai.com/envs#classic_control) and [toy text](https://gym.openai.com/envs#toy_text): complete small-scale tasks, mostly from the RL literature. They’re here to get you started.\n",
        "\n",
        "- [Algorithmic](https://gym.openai.com/envs#algorithmic): perform computations such as adding multi-digit numbers and reversing sequences. One might object that these tasks are easy for a computer. The challenge is to learn these algorithms purely from examples. These tasks have the nice property that it’s easy to vary the difficulty by varying the sequence length.\n",
        "\n",
        "- [Atari](https://gym.openai.com/envs#atari): play classic Atari games. \n",
        "\n",
        "- [2D and 3D robots](https://gym.openai.com/envs#mujoco): control a robot in simulation. These tasks use the MuJoCo physics engine, which was designed for fast and accurate robot simulation. \n"
      ]
    },
    {
      "cell_type": "markdown",
      "metadata": {
        "id": "uUhS0_4ADCyx",
        "colab_type": "text"
      },
      "source": [
        "Don't forget to set matplotlib to inline"
      ]
    },
    {
      "cell_type": "code",
      "metadata": {
        "id": "HO3nA-oZDCyz",
        "colab_type": "code",
        "colab": {}
      },
      "source": [
        "import matplotlib\n",
        "%matplotlib inline"
      ],
      "execution_count": 6,
      "outputs": []
    },
    {
      "cell_type": "markdown",
      "metadata": {
        "colab_type": "text",
        "id": "NEnwOnr6qHbO"
      },
      "source": [
        "# CartPole-v1 exemple"
      ]
    },
    {
      "cell_type": "markdown",
      "metadata": {
        "colab_type": "text",
        "id": "Fj9G5c5kqM_y"
      },
      "source": [
        "## Initialize environment"
      ]
    },
    {
      "cell_type": "code",
      "metadata": {
        "colab_type": "code",
        "id": "5Q7p1iRwdGpE",
        "colab": {}
      },
      "source": [
        "import gym\n",
        "env = gym.make('CartPole-v1')\n",
        "_ = env.reset()"
      ],
      "execution_count": 7,
      "outputs": []
    },
    {
      "cell_type": "markdown",
      "metadata": {
        "colab_type": "text",
        "id": "mxUtaISFqQ4Q"
      },
      "source": [
        "## Initialize agent"
      ]
    },
    {
      "cell_type": "code",
      "metadata": {
        "colab_type": "code",
        "id": "srJt2AZPp58A",
        "colab": {}
      },
      "source": [
        "from torchforce.agents import AgentRandom\n",
        "action_space = env.action_space\n",
        "observation_space = env.observation_space\n",
        "agent = AgentRandom(observation_space=observation_space, action_space=action_space)"
      ],
      "execution_count": 8,
      "outputs": []
    },
    {
      "cell_type": "markdown",
      "metadata": {
        "colab_type": "text",
        "id": "EX_NctEhqfgu"
      },
      "source": [
        "## Train"
      ]
    },
    {
      "cell_type": "markdown",
      "metadata": {
        "colab_type": "text",
        "id": "fldGbNR2qlDo"
      },
      "source": [
        "Create Trainer"
      ]
    },
    {
      "cell_type": "code",
      "metadata": {
        "colab_type": "code",
        "id": "CY1LF52LqeyH",
        "colab": {
          "base_uri": "https://localhost:8080/",
          "height": 54
        },
        "outputId": "047a6e5b-2b5e-4b21-9ef1-add3321a6f39"
      },
      "source": [
        "from torchforce import Trainer\n",
        "trainer = Trainer(environment=env, agent=agent, log_dir=\"./logs\")"
      ],
      "execution_count": 9,
      "outputs": [
        {
          "output_type": "stream",
          "text": [
            "/content/reinforcement/torchforce/trainer.py:26: UserWarning: be sure of agent have good input and output dimension\n",
            "  warnings.warn(\"be sure of agent have good input and output dimension\")\n"
          ],
          "name": "stderr"
        }
      ]
    },
    {
      "cell_type": "markdown",
      "metadata": {
        "colab_type": "text",
        "id": "cGq2ksiRqkRR"
      },
      "source": [
        "Start train"
      ]
    },
    {
      "cell_type": "code",
      "metadata": {
        "colab_type": "code",
        "id": "0BACJeOjqkXO",
        "colab": {
          "base_uri": "https://localhost:8080/",
          "height": 403
        },
        "outputId": "753e0206-3e4d-4f0d-a3ae-fc22d3ffe715"
      },
      "source": [
        "trainer.train(max_episode=10, nb_evaluation=0, render=True)"
      ],
      "execution_count": 10,
      "outputs": [
        {
          "output_type": "display_data",
          "data": {
            "image/png": "[encoded data removed]",
            "text/plain": [
              "<Figure size 720x720 with 1 Axes>"
            ]
          },
          "metadata": {
            "tags": [],
            "needs_background": "light"
          }
        }
      ]
    },
    {
      "cell_type": "code",
      "metadata": {
        "id": "zcsTsAXrDCzY",
        "colab_type": "code",
        "colab": {
          "base_uri": "https://localhost:8080/",
          "height": 403
        },
        "outputId": "5879c518-a11c-4d16-ca5a-91b5fac88754"
      },
      "source": [
        "trainer.train(max_episode=1, nb_evaluation=0, render=True)"
      ],
      "execution_count": 11,
      "outputs": [
        {
          "output_type": "display_data",
          "data": {
            "image/png": "[encoded data removed]",
            "text/plain": [
              "<Figure size 720x720 with 1 Axes>"
            ]
          },
          "metadata": {
            "tags": [],
            "needs_background": "light"
          }
        }
      ]
    },
    {
      "cell_type": "markdown",
      "metadata": {
        "id": "5zdti968DCzb",
        "colab_type": "text"
      },
      "source": [
        "# MountainCar-v0 exemple"
      ]
    },
    {
      "cell_type": "code",
      "metadata": {
        "id": "DKXo8BlnDCzc",
        "colab_type": "code",
        "colab": {}
      },
      "source": [
        "import gym\n",
        "env = gym.make('MountainCar-v0')\n",
        "_ = env.reset()"
      ],
      "execution_count": 12,
      "outputs": []
    },
    {
      "cell_type": "markdown",
      "metadata": {
        "id": "uwMJm7NcDCzg",
        "colab_type": "text"
      },
      "source": [
        "## Initialize agent"
      ]
    },
    {
      "cell_type": "code",
      "metadata": {
        "id": "5MT1Rda6DCzh",
        "colab_type": "code",
        "colab": {}
      },
      "source": [
        "from torchforce.agents import AgentRandom\n",
        "action_space = env.action_space\n",
        "observation_space = env.observation_space\n",
        "agent = AgentRandom(observation_space=observation_space, action_space=action_space)"
      ],
      "execution_count": 13,
      "outputs": []
    },
    {
      "cell_type": "markdown",
      "metadata": {
        "id": "HqR-B3JnDCzl",
        "colab_type": "text"
      },
      "source": [
        "## Train"
      ]
    },
    {
      "cell_type": "markdown",
      "metadata": {
        "id": "krhGlQ_0DCzm",
        "colab_type": "text"
      },
      "source": [
        "Create Trainer"
      ]
    },
    {
      "cell_type": "code",
      "metadata": {
        "id": "uq6iXWPyDCzm",
        "colab_type": "code",
        "colab": {
          "base_uri": "https://localhost:8080/",
          "height": 54
        },
        "outputId": "dc72c706-6ff6-4741-f0cf-abb6e7e6a1d1"
      },
      "source": [
        "from torchforce import Trainer\n",
        "trainer = Trainer(environment=env, agent=agent, log_dir=\"./logs\")"
      ],
      "execution_count": 14,
      "outputs": [
        {
          "output_type": "stream",
          "text": [
            "/content/reinforcement/torchforce/trainer.py:26: UserWarning: be sure of agent have good input and output dimension\n",
            "  warnings.warn(\"be sure of agent have good input and output dimension\")\n"
          ],
          "name": "stderr"
        }
      ]
    },
    {
      "cell_type": "markdown",
      "metadata": {
        "id": "51WV8opDDCzq",
        "colab_type": "text"
      },
      "source": [
        "Start train"
      ]
    },
    {
      "cell_type": "code",
      "metadata": {
        "id": "Ow1IDG1EDCzr",
        "colab_type": "code",
        "colab": {
          "base_uri": "https://localhost:8080/",
          "height": 403
        },
        "outputId": "c16cf3b7-fc8a-4943-c839-08ecf10cbdea"
      },
      "source": [
        "trainer.train(max_episode=1, nb_evaluation=0, render=True)"
      ],
      "execution_count": 15,
      "outputs": [
        {
          "output_type": "display_data",
          "data": {
            "image/png": "[encoded data removed]",
            "text/plain": [
              "<Figure size 720x720 with 1 Axes>"
            ]
          },
          "metadata": {
            "tags": [],
            "needs_background": "light"
          }
        }
      ]
    },
    {
      "cell_type": "code",
      "metadata": {
        "id": "0WMyWsx6DCzx",
        "colab_type": "code",
        "colab": {
          "base_uri": "https://localhost:8080/",
          "height": 403
        },
        "outputId": "11f2f81a-36c4-4c31-cc01-01ffe33c9862"
      },
      "source": [
        "trainer.train(max_episode=1, nb_evaluation=0, render=True)"
      ],
      "execution_count": 16,
      "outputs": [
        {
          "output_type": "display_data",
          "data": {
            "image/png": "[encoded data removed]",
            "text/plain": [
              "<Figure size 720x720 with 1 Axes>"
            ]
          },
          "metadata": {
            "tags": [],
            "needs_background": "light"
          }
        }
      ]
    },
    {
      "cell_type": "markdown",
      "metadata": {
        "id": "elk52tA1DCz0",
        "colab_type": "text"
      },
      "source": [
        "# Assault-v0 example"
      ]
    },
    {
      "cell_type": "code",
      "metadata": {
        "id": "sLlZ-tcDDCz1",
        "colab_type": "code",
        "colab": {}
      },
      "source": [
        "import gym\n",
        "env = gym.make('Assault-v0')\n",
        "_ = env.reset()"
      ],
      "execution_count": 17,
      "outputs": []
    },
    {
      "cell_type": "markdown",
      "metadata": {
        "id": "_kq9c2BmDCz5",
        "colab_type": "text"
      },
      "source": [
        "## Initialize agent"
      ]
    },
    {
      "cell_type": "code",
      "metadata": {
        "id": "O_4ISgMxDCz6",
        "colab_type": "code",
        "colab": {}
      },
      "source": [
        "from torchforce.agents import AgentRandom\n",
        "action_space = env.action_space\n",
        "observation_space = env.observation_space\n",
        "agent = AgentRandom(observation_space=observation_space, action_space=action_space)"
      ],
      "execution_count": 18,
      "outputs": []
    },
    {
      "cell_type": "markdown",
      "metadata": {
        "id": "IpyN0XmnDCz-",
        "colab_type": "text"
      },
      "source": [
        "## Train"
      ]
    },
    {
      "cell_type": "markdown",
      "metadata": {
        "id": "QNw-uWE6DCz_",
        "colab_type": "text"
      },
      "source": [
        "Create Trainer"
      ]
    },
    {
      "cell_type": "code",
      "metadata": {
        "id": "FbHz6FKMDCz_",
        "colab_type": "code",
        "colab": {
          "base_uri": "https://localhost:8080/",
          "height": 54
        },
        "outputId": "2148e1b9-79fe-4daf-b874-995980385358"
      },
      "source": [
        "from torchforce import Trainer\n",
        "trainer = Trainer(environment=env, agent=agent, log_dir=\"./logs\")"
      ],
      "execution_count": 19,
      "outputs": [
        {
          "output_type": "stream",
          "text": [
            "/content/reinforcement/torchforce/trainer.py:26: UserWarning: be sure of agent have good input and output dimension\n",
            "  warnings.warn(\"be sure of agent have good input and output dimension\")\n"
          ],
          "name": "stderr"
        }
      ]
    },
    {
      "cell_type": "markdown",
      "metadata": {
        "id": "ALgfU_DdDC0C",
        "colab_type": "text"
      },
      "source": [
        "Start train"
      ]
    },
    {
      "cell_type": "code",
      "metadata": {
        "id": "TwwRLMucDC0E",
        "colab_type": "code",
        "colab": {
          "base_uri": "https://localhost:8080/",
          "height": 575
        },
        "outputId": "59914e88-09ad-4f02-a946-e65954224a11"
      },
      "source": [
        "trainer.train(max_episode=1, nb_evaluation=0, render=True)"
      ],
      "execution_count": 20,
      "outputs": [
        {
          "output_type": "display_data",
          "data": {
            "image/png": "[encoded data removed]",
            "text/plain": [
              "<Figure size 720x720 with 1 Axes>"
            ]
          },
          "metadata": {
            "tags": [],
            "needs_background": "light"
          }
        }
      ]
    },
    {
      "cell_type": "code",
      "metadata": {
        "id": "SeHyEDV5DC0H",
        "colab_type": "code",
        "colab": {
          "base_uri": "https://localhost:8080/",
          "height": 575
        },
        "outputId": "4211ba24-cbfa-40d1-812d-46220e5a11db"
      },
      "source": [
        "trainer.train(max_episode=1, nb_evaluation=0, render=True)"
      ],
      "execution_count": 21,
      "outputs": [
        {
          "output_type": "display_data",
          "data": {
            "image/png": "[encoded data removed]",
            "text/plain": [
              "<Figure size 720x720 with 1 Axes>"
            ]
          },
          "metadata": {
            "tags": [],
            "needs_background": "light"
          }
        }
      ]
    }
  ]
}